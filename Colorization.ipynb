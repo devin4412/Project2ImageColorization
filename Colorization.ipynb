{
 "cells": [
  {
   "cell_type": "markdown",
   "metadata": {},
   "source": [
    "## Project 2: Black and White Colorization"
   ]
  },
  {
   "cell_type": "markdown",
   "metadata": {},
   "source": [
    "### Section 1: Loading and modifying dataset"
   ]
  },
  {
   "cell_type": "markdown",
   "metadata": {},
   "source": [
    "#### Helper functions"
   ]
  },
  {
   "cell_type": "code",
   "execution_count": null,
   "metadata": {},
   "outputs": [],
   "source": [
    "import cv2\n",
    "import os\n",
    "import glob\n",
    "import torch\n",
    "import numpy as np\n",
    "\n",
    "torch.set_default_tensor_type('torch.FloatTensor') #Sets default tensor value to float\n",
    " \n",
    "def loadImgsToList():\n",
    "    img_dir = \"./AllImages/face_images/*.jpg\" #Function which loads in the face images and returns a list containing RGB values, as well as the number of images read\n",
    "    files = glob.glob(img_dir)\n",
    "\n",
    "    data = []\n",
    "    numImages = 0\n",
    "    for f1 in files:\n",
    "        image = cv2.imread(f1)\n",
    "        image = cv2.cvtColor(image, cv2.COLOR_BGR2LAB) #cv2 stores colors as BGR instead of RGB for some reason\n",
    "        data.append(image)\n",
    "        numImages += 1 #probably unnecessary but I like to avoid using len() for arrays/lists of multiple dimensions\n",
    "    \n",
    "    return data, numImages #Capture return as array, number = loadImgsToList()\n",
    "   \n",
    "def createTensor(data): #Function to create an Tensor from a data list, data is unshuffled and unedited from raw\n",
    "    shape = (numImages, 128, 128, 3) #Shape of the tensor = (number of images, height, width, number of channels), it was recommended online to do it in this order\n",
    "    tempTensor = torch.zeros(shape) #Populate empty tensor of correct size\n",
    "\n",
    "    for i in data:\n",
    "        curData = torch.from_numpy(data[count]) #converts \n",
    "        tempTensor[count] = curData\n",
    "\n",
    "def shuffleTensor(tempTensor, numImages):\n",
    "    perm = torch.randperm(numImages)\n",
    "\n",
    "    rgbTensor = torch.zeros(shape)\n",
    "    for i in perm:\n",
    "        rgbTensor[i] = tempTensor[perm[i]]\n",
    "    \n",
    "    return rgbTensor\n",
    "\n",
    "def cropImageFromTensor(inputTensor):\n",
    "    pass\n",
    "\n",
    "def scaleRGBValues(inputTensor, index):\n",
    "    scalar = random.uniform(.6, 1)\n",
    "    \n",
    "    tempTensor = zeros(128, 128, 3)\n",
    "    tempTensor = inputTensor[index]\n",
    "    \n",
    "    for i in range(128):\n",
    "        for j in range(128):\n",
    "            tempTensor[i][j][0] *= scalar\n",
    "            tempTensor[i][j][1] *= scalar\n",
    "            tempTensor[i][j][2] *= scalar\n",
    "    \n",
    "    return tempTensor\n",
    "    "
   ]
  },
  {
   "cell_type": "code",
   "execution_count": null,
   "metadata": {},
   "outputs": [],
   "source": [
    "import cv2\n",
    "from matplotlib import pyplot as plt\n",
    "\n",
    "data, numImgs = LoadImgsToList()\n",
    "\n",
    "\n",
    "#Show the image with matplotlib\n",
    "plt.imshow(image)\n",
    "plt.show()"
   ]
  },
  {
   "cell_type": "code",
   "execution_count": null,
   "metadata": {},
   "outputs": [],
   "source": []
  }
 ],
 "metadata": {
  "kernelspec": {
   "display_name": "UFRC Python-3.8",
   "language": "python",
   "name": "python3-3.8-ufrc"
  },
  "language_info": {
   "codemirror_mode": {
    "name": "ipython",
    "version": 3
   },
   "file_extension": ".py",
   "mimetype": "text/x-python",
   "name": "python",
   "nbconvert_exporter": "python",
   "pygments_lexer": "ipython3",
   "version": "3.8.5"
  }
 },
 "nbformat": 4,
 "nbformat_minor": 4
}

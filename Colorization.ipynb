{
 "cells": [
  {
   "cell_type": "markdown",
   "metadata": {},
   "source": [
    "## Project 2: Black and White Colorization"
   ]
  },
  {
   "cell_type": "markdown",
   "metadata": {},
   "source": [
    "### Section 1: Loading and modifying dataset"
   ]
  },
  {
   "cell_type": "markdown",
   "metadata": {},
   "source": [
    "#### Helper functions"
   ]
  },
  {
   "cell_type": "code",
   "execution_count": null,
   "metadata": {},
   "outputs": [],
   "source": [
    "import cv2\n",
    "import os\n",
    "import glob\n",
    "import torch\n",
    "import numpy as np\n",
    "from matplotlib import pyplot as plt\n",
    "import torchvision.transforms as T\n",
    "\n",
    "torch.set_default_tensor_type('torch.FloatTensor') #Sets default tensor value to float\n",
    " \n",
    "def loadImgsToList():\n",
    "    img_dir = \"./AllImages/face_images/*.jpg\" #Function which loads in the face images and returns a list containing RGB values, as well as the number of images read\n",
    "    files = sorted(glob.glob(img_dir))\n",
    "\n",
    "    data = []\n",
    "    numImages = 0\n",
    "    for f1 in files:\n",
    "        image = cv2.imread(f1)\n",
    "        image = cv2.cvtColor(image, cv2.COLOR_BGR2RGB) #cv2 stores colors as BGR instead of RGB for some reason     \n",
    "        data.append(image)\n",
    "        numImages += 1 #probably unnecessary but I like to avoid using len() for arrays/lists of multiple dimensions\n",
    "    \n",
    "    return data, numImages #Capture return as array, number = loadImgsToList()\n",
    "   \n",
    "def createTensor(data, numImages): #Function to create an Tensor from a data list, data is unshuffled and unedited from raw\n",
    "    shape = (numImages, 128, 128, 3) #Shape of the tensor = (number of images, height, width, number of channels), it was recommended online to do it in this order\n",
    "    tempTensor = torch.zeros(shape) #Populate empty tensor of correct size\n",
    "\n",
    "    count = 0\n",
    "    for i in data:\n",
    "        curData = torch.from_numpy(data[count]) #converts \n",
    "        tempTensor[count] = curData\n",
    "        count += 1\n",
    "    \n",
    "    return tempTensor\n",
    "\n",
    "def shuffleTensor(tempTensor, numImages):\n",
    "    perm = torch.randperm(numImages) #Gives an array which is a permutation of the numbers [0:numImages] EG: 0, 1, 2, 3 can become 0, 3, 1, 2\n",
    "    shape = (numImages, 128, 128, 3) \n",
    "    \n",
    "    rgbTensor = torch.zeros(shape) #holder\n",
    "    for i in perm: #set holder value to its permutated counterpart\n",
    "        rgbTensor[i] = tempTensor[perm[i]]\n",
    "    \n",
    "    return rgbTensor\n",
    "\n",
    "def randomCrop(inputTensor):\n",
    "    length = np.random.randint(70,115) #crop size, minimum image size after crop is 70x70, max is 115x115, arbitrary and can/should be adjusted\n",
    "    randCrop = T.RandomCrop(size = (length, length))\n",
    "    resized = T.Resize(size = (128, 128)) #resizes images to 128x128\n",
    "    tempTensor = inputTensor.permute(2, 0, 1) #because randomcrop doesn't like the 3 at the end\n",
    "    tempTensor = resized(randCrop(tempTensor))\n",
    "    tempTensor = tempTensor.permute(1, 2, 0) #fixing the other permute\n",
    "    return tempTensor\n",
    "\n",
    "def horizontalFlip(inputTensor):\n",
    "    return torch.fliplr(inputTensor) #convenient built in\n",
    "\n",
    "def scaleRGBValues(inputTensor):\n",
    "    scalar = np.random.uniform(.6, 1)\n",
    "    return inputTensor * scalar #This was way too complicated before\n",
    "\n",
    "def populateAndScaleDataset(data, numImages, scaleFactor):\n",
    "    myTensor = createTensor(data, numImages) #Create and shuffle a tensor from the loaded in data\n",
    "    myTensor = shuffleTensor(myTensor, numImages)\n",
    "    \n",
    "    newShape = (scaleFactor*numImages, 128, 128, 3) #Create a holder for the new, scaled Tensor\n",
    "    newTensor = torch.zeros(newShape)\n",
    "    \n",
    "    count = 0 #horizontal counter\n",
    "    for i in range(numImages): #for each data image\n",
    "        for j in range(scaleFactor): #make {scaleFactor} more\n",
    "            if j == 0: #Include the original\n",
    "                newTensor[count] = myTensor[i]\n",
    "            else: #else, randomly change the rest\n",
    "                tempTensor = myTensor[i] #initialize to original\n",
    "                \n",
    "                val1 = np.random.uniform(0, 1) #rand val between 0 and 1\n",
    "                if val1 >= .5: #half of the time, flip it\n",
    "                    tempTensor = horizontalFlip(tempTensor)\n",
    "                \n",
    "                val2 = np.random.uniform(0, 1)\n",
    "                if val2 >= .5: #half of the time, crop it\n",
    "                    tempTensor = randomCrop(tempTensor)\n",
    "                    \n",
    "                val3 = np.random.uniform(0, 1)\n",
    "                if val3 >= .5: #half of the time, scale it\n",
    "                    tempTensor = scaleRGBValues(tempTensor)\n",
    "            \n",
    "                newTensor[count] = tempTensor #add it to the holder\n",
    "            count += 1    #increment count\n",
    "            \n",
    "            #NOTE: obviously, the values for when to alter the new images can be adjusted. It's done this way so that multiple transformations can be done on one image\n",
    "            # Has the flaw of sometimes repeating images, which may be bad for the dataset. Can be easily fixed by adding a default case at the end, but I have omitted that for now\n",
    "            \n",
    "    \n",
    "    x = \"000000\" \n",
    "    for i in range(len(newTensor)):\n",
    "        filename = r\"./AllImages/augmented/rgb_image\" + x + \".jpg\"\n",
    "        x =  str(int(x) + 1).zfill(len(x)) #maintains 6 digits at end\n",
    "        \n",
    "        img = newTensor[i].numpy()\n",
    "        cv2.cvtColor(img, cv2.COLOR_RGB2BGR) #convert to BGR so cv2 can save it\n",
    "        s = cv2.imwrite(filename, img)\n",
    "        \n",
    "        if not s:\n",
    "            print(s) #print failure\n",
    "            \n",
    "    return newTensor\n",
    "\n",
    "def convertToLab(mytensor):\n",
    "    holderTensor = torch.zeros(mytensor.shape) #holder tensor to return\n",
    "    \n",
    "    x = \"000000\" #used in filenames\n",
    "    for i in range(len(mytensor)):\n",
    "        test = cv2.cvtColor(mytensor[i].numpy()/255.0, cv2.COLOR_RGB2Lab) #actual conversion\n",
    "        holderTensor[i] = torch.from_numpy(test) #save to holder\n",
    "        \n",
    "        filenameL = r\"./AllImages/L/L_image\" + x + \".jpg\" #initialize filenames\n",
    "        filenameA = r\"./AllImages/a/a_image\" + x + \".jpg\"\n",
    "        filenameB = r\"./AllImages/b/b_image\" + x + \".jpg\"\n",
    "        x =  str(int(x) + 1).zfill(len(x)) #maintains 6 digits at end and increments x\n",
    "        \n",
    "        L, a, b = cv2.split(test) #split L, a, and b\n",
    "        L_s = cv2.imwrite(filenameL, L) #and save them\n",
    "        a_s = cv2.imwrite(filenameA, a)\n",
    "        b_s = cv2.imwrite(filenameB, b)\n",
    "\n",
    "        if not L_s or not a_s or not b_s :\n",
    "            print(L_s, a_s, b_s) #print failure\n",
    "            \n",
    "    return holderTensor\n",
    "\n",
    "def displayImage(data):\n",
    "    image = data\n",
    "    #image = cv2.cvtColor(image, cv2.COLOR_LAB2RGB) #gotta convert back #### Have images in RGB currently, will adjust at later point\n",
    "\n",
    "    #Show the image with matplotlib\n",
    "    plt.imshow(image/255)\n",
    "    plt.show()"
   ]
  },
  {
   "cell_type": "markdown",
   "metadata": {},
   "source": [
    "#### Call data initialization functions"
   ]
  },
  {
   "cell_type": "code",
   "execution_count": null,
   "metadata": {},
   "outputs": [],
   "source": [
    "#Initialize dataset, scale it\n",
    "data, numImgs = loadImgsToList()\n",
    "sf = 10\n",
    "\n",
    "tensor = populateAndScaleDataset(data, numImgs, sf)"
   ]
  },
  {
   "cell_type": "code",
   "execution_count": null,
   "metadata": {},
   "outputs": [],
   "source": [
    "tensor = convertToLab(tensor) #convert color space (prev 2 functions also save files)"
   ]
  },
  {
   "cell_type": "code",
   "execution_count": null,
   "metadata": {},
   "outputs": [],
   "source": [
    "newTensor = shuffleTensor(tensor, numImgs*sf) #Shuffle after saving to preserve order in files (cataloging purposes)"
   ]
  },
  {
   "cell_type": "markdown",
   "metadata": {},
   "source": [
    "### Regressor Section"
   ]
  },
  {
   "cell_type": "code",
   "execution_count": null,
   "metadata": {},
   "outputs": [],
   "source": []
  }
 ],
 "metadata": {
  "kernelspec": {
   "display_name": "UFRC Python-3.8",
   "language": "python",
   "name": "python3-3.8-ufrc"
  },
  "language_info": {
   "codemirror_mode": {
    "name": "ipython",
    "version": 3
   },
   "file_extension": ".py",
   "mimetype": "text/x-python",
   "name": "python",
   "nbconvert_exporter": "python",
   "pygments_lexer": "ipython3",
   "version": "3.8.5"
  }
 },
 "nbformat": 4,
 "nbformat_minor": 4
}

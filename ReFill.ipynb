{
 "cells": [
  {
   "cell_type": "markdown",
   "metadata": {},
   "source": [
    "## Final Project: Refilling lost image data"
   ]
  },
  {
   "cell_type": "markdown",
   "metadata": {},
   "source": [
    "### Imports and Helpers"
   ]
  },
  {
   "cell_type": "code",
   "execution_count": null,
   "metadata": {},
   "outputs": [],
   "source": [
    "import cv2\n",
    "import glob\n",
    "import torch\n",
    "import numpy as np\n",
    "from matplotlib import pyplot as plt\n",
    "import torchvision.transforms as T\n",
    "\n",
    "torch.set_default_tensor_type('torch.FloatTensor')\n",
    "\n",
    "SHAPE = (750, 128, 128, 3)\n",
    "\n",
    "def loadImages():    \n",
    "    img_dir = \"/home/dbartlett/BWColorization/AllImages/face_images/*.jpg\"\n",
    "    \n",
    "    files = sorted(glob.glob(img_dir))\n",
    "        \n",
    "    data = []\n",
    "    for i in files:\n",
    "        image = cv2.imread(i)\n",
    "        image = cv2.cvtColor(image, cv2.COLOR_BGR2RGB)\n",
    "        data.append(image)\n",
    "    \n",
    "    return data\n",
    "\n",
    "def createTensor(data):\n",
    "    holder = torch.zeros(SHAPE)\n",
    "    \n",
    "    for i in range(len(data)):\n",
    "        currentData = torch.from_numpy(data[i])\n",
    "        holder[i] = currentData\n",
    "        \n",
    "    return holder\n",
    "\n",
    "def shuffle(tensor):\n",
    "    nOrder = torch.randperm(len(tensor))\n",
    "    shuffled = torch.zeros(SHAPE)\n",
    "    \n",
    "    for i in nOrder:\n",
    "        shuffled[i] = tensor[nOrder[i]]\n",
    "    \n",
    "    return shuffled\n",
    "\n",
    "def applyMasks(tensor):\n",
    "    \n",
    "    maskLocation = [[]]\n",
    "    \n",
    "    for x in range(len(tensor)): #for each image\n",
    "        randsize = np.random.randint(30, 50) #select a random size\n",
    "        randstart = np.random.randint(0, len(tensor[x]) - randsize) #and a random location\n",
    "        maskLocation.append([randstart, randsize])\n",
    "        \n",
    "        \n",
    "        for i in range(randstart, randstart + randsize): #darken masked pixels\n",
    "            for j in range(randstart, randstart + randsize):\n",
    "                tensor[x][i][j][0] = 0.0\n",
    "                tensor[x][i][j][1] = 0.0\n",
    "                tensor[x][i][j][2] = 0.0\n",
    "\n",
    "    \n",
    "    return tensor, maskLocation\n",
    "\n",
    "def displayImage(data):\n",
    "    image = data\n",
    "    #Show the image with matplotlib\n",
    "    plt.imshow(image/255)\n",
    "    plt.show()"
   ]
  },
  {
   "cell_type": "code",
   "execution_count": null,
   "metadata": {},
   "outputs": [],
   "source": [
    "data = loadImages()\n",
    "tensor = createTensor(data)\n",
    "tensor, maskLocations = applyMasks(tensor)\n",
    "\n",
    "for i in range(len(tensor)):\n",
    "    displayImage(tensor[i])"
   ]
  },
  {
   "cell_type": "code",
   "execution_count": null,
   "metadata": {},
   "outputs": [],
   "source": []
  }
 ],
 "metadata": {
  "kernelspec": {
   "display_name": "UFRC Python-3.8",
   "language": "python",
   "name": "python3-3.8-ufrc"
  },
  "language_info": {
   "codemirror_mode": {
    "name": "ipython",
    "version": 3
   },
   "file_extension": ".py",
   "mimetype": "text/x-python",
   "name": "python",
   "nbconvert_exporter": "python",
   "pygments_lexer": "ipython3",
   "version": "3.8.5"
  }
 },
 "nbformat": 4,
 "nbformat_minor": 4
}
